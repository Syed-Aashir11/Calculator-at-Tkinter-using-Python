{
 "cells": [
  {
   "cell_type": "code",
   "execution_count": 2,
   "id": "daily-preference",
   "metadata": {},
   "outputs": [],
   "source": [
    "import tkinter as tkinter\n",
    "gui=tkinter.Tk()\n",
    "gui.title('Python')\n",
    "gui.geometry('400x400')\n",
    "gui.configure(bg=\"black\")\n",
    "gui.attributes(\"-alpha\", 1.0)\n",
    "gui.mainloop()"
   ]
  },
  {
   "cell_type": "code",
   "execution_count": 3,
   "id": "limited-activation",
   "metadata": {},
   "outputs": [
    {
     "ename": "NameError",
     "evalue": "name 'Button_backend' is not defined",
     "output_type": "error",
     "traceback": [
      "\u001b[1;31m---------------------------------------------------------------------------\u001b[0m",
      "\u001b[1;31mNameError\u001b[0m                                 Traceback (most recent call last)",
      "\u001b[1;32m<ipython-input-3-e14c7cb86371>\u001b[0m in \u001b[0;36m<module>\u001b[1;34m\u001b[0m\n\u001b[0;32m      2\u001b[0m \u001b[0mtop\u001b[0m\u001b[1;33m=\u001b[0m\u001b[0mTk\u001b[0m\u001b[1;33m(\u001b[0m\u001b[1;33m)\u001b[0m\u001b[1;33m\u001b[0m\u001b[1;33m\u001b[0m\u001b[0m\n\u001b[0;32m      3\u001b[0m \u001b[0mtop\u001b[0m\u001b[1;33m.\u001b[0m\u001b[0mgeometry\u001b[0m\u001b[1;33m(\u001b[0m\u001b[1;34m'300x300'\u001b[0m\u001b[1;33m)\u001b[0m\u001b[1;33m\u001b[0m\u001b[1;33m\u001b[0m\u001b[0m\n\u001b[1;32m----> 4\u001b[1;33m \u001b[0mb\u001b[0m\u001b[1;33m=\u001b[0m\u001b[0mButton\u001b[0m\u001b[1;33m(\u001b[0m\u001b[0mtop\u001b[0m\u001b[1;33m,\u001b[0m\u001b[0mtex\u001b[0m\u001b[1;33m=\u001b[0m\u001b[1;34m\"Python\"\u001b[0m\u001b[1;33m,\u001b[0m\u001b[0mcommand\u001b[0m\u001b[1;33m=\u001b[0m\u001b[0mButton_backend\u001b[0m\u001b[1;33m)\u001b[0m\u001b[1;33m\u001b[0m\u001b[1;33m\u001b[0m\u001b[0m\n\u001b[0m\u001b[0;32m      5\u001b[0m \u001b[0mb\u001b[0m\u001b[1;33m.\u001b[0m\u001b[0mplace\u001b[0m\u001b[1;33m(\u001b[0m\u001b[0mx\u001b[0m\u001b[1;33m=\u001b[0m\u001b[1;36m500\u001b[0m\u001b[1;33m,\u001b[0m\u001b[0my\u001b[0m\u001b[1;33m=\u001b[0m\u001b[1;36m500\u001b[0m\u001b[1;33m)\u001b[0m\u001b[1;33m\u001b[0m\u001b[1;33m\u001b[0m\u001b[0m\n\u001b[0;32m      6\u001b[0m \u001b[0mtop\u001b[0m\u001b[1;33m.\u001b[0m\u001b[0mmainloop\u001b[0m\u001b[1;33m(\u001b[0m\u001b[1;33m)\u001b[0m\u001b[1;33m\u001b[0m\u001b[1;33m\u001b[0m\u001b[0m\n",
      "\u001b[1;31mNameError\u001b[0m: name 'Button_backend' is not defined"
     ]
    }
   ],
   "source": [
    "from tkinter import *\n",
    "top=Tk()\n",
    "top.geometry('300x300')\n",
    "b=Button(top,tex=\"Python\",command=Button_backend)\n",
    "b.place(x=500,y=500)\n",
    "top.mainloop()"
   ]
  },
  {
   "cell_type": "code",
   "execution_count": null,
   "id": "obvious-medicaid",
   "metadata": {},
   "outputs": [],
   "source": [
    "from tkinter import * \n",
    "def btnClick(numbers): \n",
    " global operator \n",
    " operator=operator+str(numbers) \n",
    " text_Input.set(operator) \n",
    "def btnClearDisplay(): \n",
    " global operator \n",
    " operator=\"\" \n",
    " text_Input.set(\"\") \n",
    "def btnEqualsInput(): \n",
    " global operator \n",
    " ans=str(eval(operator)) \n",
    " text_Input.set(ans) \n",
    " operator=\"\" \n",
    "cal=Tk() \n",
    "cal.title(\"Calculator\") \n",
    "operator=\"\" \n",
    "text_Input=StringVar() \n",
    "txtDisplay=Entry(cal,font=('arial',20,'bold'),textvariable=text_Input,bd=30,insertwidth=4,bg=\"powder  blue\",justify='right').grid(columnspan=4) \n",
    "btn7=Button(cal,padx=16,bd=8,fg=\"black\",font=('arial',20,'bold'),text=\"7\",command=lambda:btnClick(7)).grid(row= 1,column=0) \n",
    "btn8=Button(cal,padx=16,bd=8,fg=\"black\",font=('arial',20,'bold'),text=\"8\",command=lambda:btnClick(8)).grid(row= 1,column=1) \n",
    "btn9=Button(cal,padx=16,bd=8,fg=\"black\",font=('arial',20,'bold'),text=\"9\",command=lambda:btnClick(9)).grid(row= 1,column=2) \n",
    "addition=Button(cal,padx=16,bd=8,fg=\"black\",font=('arial',20,'bold'),text=\"+\",command=lambda:btnClick(\"+\")).grid (row=1,column=3)\n",
    "btn4=Button(cal,padx=16,bd=8,fg=\"black\",font=('arial',20,'bold'),text=\"4\",command=lambda:btnClick(4)).grid(row= 2,column=0) \n",
    "btn5=Button(cal,padx=16,bd=8,fg=\"black\",font=('arial',20,'bold'),text=\"5\",command=lambda:btnClick(5)).grid(row= 2,column=1) \n",
    "btn6=Button(cal,padx=16,bd=8,fg=\"black\",font=('arial',20,'bold'),text=\"6\",command=lambda:btnClick(6)).grid(row= 2,column=2) \n",
    "subtraction=Button(cal,padx=16,bd=8,fg=\"black\",font=('arial',20,'bold'),text=\"-\",command=lambda:btnClick(\"- \")).grid(row=2,column=3) \n",
    "btn1=Button(cal,padx=16,bd=8,fg=\"black\",font=('arial',20,'bold'),text=\"1\",command=lambda:btnClick(1)).grid(row= 3,column=0) \n",
    "btn2=Button(cal,padx=16,bd=8,fg=\"black\",font=('arial',20,'bold'),text=\"2\",command=lambda:btnClick(2)).grid(row= 3,column=1) \n",
    "btn3=Button(cal,padx=16,bd=8,fg=\"black\",font=('arial',20,'bold'),text=\"3\",command=lambda:btnClick(3)).grid(row= 3,column=2) \n",
    "multiplication=Button(cal,padx=16,bd=8,fg=\"black\",font=('arial',20,'bold'),text=\"*\",command=lambda:btnClick(\"*\") ).grid(row=3,column=3) \n",
    "btn0=Button(cal,padx=16,bd=8,fg=\"black\",font=('arial',20,'bold'),text=\"0\",command=lambda:btnClick(0)).grid(row= 4,column=0) \n",
    "btnClear=Button(cal,padx=16,bd=8,fg=\"black\",font=('arial',20,'bold'),text=\"C\",command=btnClearDisplay).grid(row =4,column=1) \n",
    "btnEquals=Button(cal,padx=16,bd=8,fg=\"black\",font=('arial',20,'bold'),text=\"=\",command=btnEqualsInput).grid(ro w=4,column=2) \n",
    "Division=Button(cal,padx=16,bd=8,fg=\"black\",font=('arial',20,'bold'),text=\"/\",command=lambda:btnClick(\"/\")).grid( row=4,column=3) \n",
    "\n",
    "\n",
    "cal.mainloop() "
   ]
  },
  {
   "cell_type": "code",
   "execution_count": null,
   "id": "earned-recognition",
   "metadata": {},
   "outputs": [],
   "source": []
  }
 ],
 "metadata": {
  "kernelspec": {
   "display_name": "Python 3",
   "language": "python",
   "name": "python3"
  },
  "language_info": {
   "codemirror_mode": {
    "name": "ipython",
    "version": 3
   },
   "file_extension": ".py",
   "mimetype": "text/x-python",
   "name": "python",
   "nbconvert_exporter": "python",
   "pygments_lexer": "ipython3",
   "version": "3.8.7"
  }
 },
 "nbformat": 4,
 "nbformat_minor": 5
}
